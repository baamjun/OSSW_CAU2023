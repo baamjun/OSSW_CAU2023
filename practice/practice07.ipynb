{
 "cells": [
  {
   "cell_type": "code",
   "execution_count": 2,
   "id": "known-sweden",
   "metadata": {},
   "outputs": [],
   "source": [
    "import sklearn.datasets\n",
    "\n",
    "import matplotlib.pyplot as plt \n",
    "%matplotlib inline"
   ]
  },
  {
   "cell_type": "markdown",
   "id": "elementary-thermal",
   "metadata": {},
   "source": [
    "### 1. Load digit dataset from scikit learn\n",
    "hints: sklearn.datasets.load_digits"
   ]
  },
  {
   "cell_type": "code",
   "execution_count": null,
   "id": "acting-comment",
   "metadata": {},
   "outputs": [],
   "source": [
    "digit = sklearn.datasets.load_digits()\n",
    "digit"
   ]
  },
  {
   "cell_type": "markdown",
   "id": "dietary-parent",
   "metadata": {},
   "source": [
    "### 2. Plot the first data in digit dataset with gray scale\n",
    "hints: plt.matshow, plt.gray()"
   ]
  },
  {
   "cell_type": "code",
   "execution_count": null,
   "id": "adaptive-wiring",
   "metadata": {},
   "outputs": [],
   "source": [
    "plt.matshow(digit.images[0], cmap='gray')\n",
    "plt.gray()\n",
    "plt.show()"
   ]
  },
  {
   "cell_type": "markdown",
   "id": "canadian-kitty",
   "metadata": {},
   "source": [
    "### 3. Load iris dataset from scikit learn\n",
    "hints: sklearn.datasets.load_iris"
   ]
  },
  {
   "cell_type": "code",
   "execution_count": null,
   "id": "right-runner",
   "metadata": {},
   "outputs": [],
   "source": [
    "iris = sklearn.datasets.load_iris()\n",
    "iris"
   ]
  },
  {
   "cell_type": "markdown",
   "id": "liable-composite",
   "metadata": {},
   "source": [
    "### 4. Print the feature names of iris dataset\n",
    "hints: feature_names"
   ]
  },
  {
   "cell_type": "code",
   "execution_count": null,
   "id": "changed-rings",
   "metadata": {},
   "outputs": [],
   "source": [
    "print(iris.feature_names)"
   ]
  },
  {
   "cell_type": "markdown",
   "id": "declared-wyoming",
   "metadata": {},
   "source": [
    "### 5. Plot feature vectors with first two dimension in iris dataset\n",
    "hints: plt.scatter"
   ]
  },
  {
   "cell_type": "code",
   "execution_count": null,
   "id": "serious-vegetation",
   "metadata": {
    "scrolled": true
   },
   "outputs": [],
   "source": [
    "plt.scatter(iris.data[:, 0],iris.data[:, 1])\n",
    "\n",
    "plt.title('Iris Dataset - Feature Vectors with First Two Dimensions')\n",
    "plt.xlabel(iris.feature_names[0])\n",
    "plt.ylabel(iris.feature_names[1])\n",
    "\n",
    "plt.show()"
   ]
  },
  {
   "cell_type": "markdown",
   "metadata": {},
   "source": [
    "### 6. Load house dataset from scikit learn\n",
    "hints: sklearn.datasets.load_boston"
   ]
  },
  {
   "cell_type": "code",
   "execution_count": null,
   "metadata": {},
   "outputs": [],
   "source": [
    "%pip install scikit-learn==1.0.2"
   ]
  },
  {
   "cell_type": "code",
   "execution_count": null,
   "metadata": {},
   "outputs": [],
   "source": [
    "import sklearn.datasets\n",
    "print(sklearn.__version__)"
   ]
  },
  {
   "cell_type": "code",
   "execution_count": null,
   "metadata": {},
   "outputs": [],
   "source": [
    "boston = sklearn.datasets.load_boston\n",
    "boston"
   ]
  },
  {
   "cell_type": "markdown",
   "metadata": {},
   "source": [
    "### 7. Print the feature names of boston dataset\n",
    "hints: feature_names"
   ]
  },
  {
   "cell_type": "code",
   "execution_count": null,
   "metadata": {},
   "outputs": [],
   "source": [
    "print(boston.feature_names)"
   ]
  },
  {
   "cell_type": "markdown",
   "metadata": {},
   "source": [
    "### 8. Find the dimension and the number of training dataset and train a linear regression on Boston Dataset\n",
    "\n",
    "hints: use practice 05\n",
    "- use a linear model, $y = \\sum_{i=1}^{d}w_{i}x_{i}+ w_{0}$\n",
    "- find a parameter $\\hat{\\bf w}=[w_{0},w_{1},\\cdots,w_{d}]$\n",
    "- predicte the target value $\\hat{y} = \\hat{\\bf w}^{\\intercal}[x, 1]$\n",
    "- compute the prediction error $\\sum_{i=1}^{n}(y_{i}-\\hat{y}_{i})^{2}/n$"
   ]
  },
  {
   "cell_type": "code",
   "execution_count": null,
   "metadata": {},
   "outputs": [],
   "source": [
    "import numpy as np\n",
    "\n",
    "n, d = 0, 0\n",
    "print(\"{} data are given\".format(n))\n",
    "print(\"{} dimensional feature vector\".format(d))"
   ]
  },
  {
   "cell_type": "code",
   "execution_count": null,
   "metadata": {},
   "outputs": [],
   "source": [
    "# print(\"MSE {}\".format(np.mean((y - y_hat)**2)))\n",
    "# for i in range(10):\n",
    "#     print(\"==== {}th training data ====\".format(i))\n",
    "#     print(\"Feature Input: {}\".format(X[i]))\n",
    "#     print(\"Target Value: {}\". format(y[i]))\n",
    "#     print(\"Predicted Value: {}\\n\". format(A[i].dot(w_hat)))"
   ]
  },
  {
   "cell_type": "markdown",
   "metadata": {},
   "source": [
    "### 9. Load diabetes dataset and find the dimension of input vector, the number of training data\n",
    "hints: sklearn.datasets.load_diabetes"
   ]
  },
  {
   "cell_type": "code",
   "execution_count": null,
   "metadata": {},
   "outputs": [],
   "source": [
    "n, d = 0, 0\n",
    "print(\"{} data are given\".format(n))\n",
    "print(\"{} dimensional feature vector\".format(d))"
   ]
  },
  {
   "cell_type": "markdown",
   "metadata": {},
   "source": [
    "### 10. Train a linear regression model on diabetes dataset\n",
    "- use a linear model, $y = \\sum_{i=1}^{d}w_{i}x_{i}+ w_{0}$\n",
    "- find a parameter $\\hat{\\bf w}=[w_{0},w_{1},\\cdots,w_{d}]$\n",
    "- predicte the target value $\\hat{y} = \\hat{\\bf w}^{\\intercal}[x, 1]$\n",
    "- compute the prediction error $\\sum_{i=1}^{n}(y_{i}-\\hat{y}_{i})^{2}/n$"
   ]
  },
  {
   "cell_type": "code",
   "execution_count": null,
   "metadata": {},
   "outputs": [],
   "source": [
    "# print(\"MSE {}\".format(np.mean((y - y_hat)**2)))\n",
    "# for i in range(10):\n",
    "#     print(\"==== {}th training data ====\".format(i))\n",
    "#     print(\"Feature Input: {}\".format(X[i]))\n",
    "#     print(\"Target Value: {}\". format(y[i]))\n",
    "#     print(\"Predicted Value: {}\\n\". format(A[i].dot(w_hat)))"
   ]
  },
  {
   "cell_type": "code",
   "execution_count": 1,
   "metadata": {},
   "outputs": [
    {
     "name": "stdout",
     "output_type": "stream",
     "text": [
      "손범준, 20172206\n"
     ]
    }
   ],
   "source": [
    "print('손범준, 20172206')"
   ]
  }
 ],
 "metadata": {
  "kernelspec": {
   "display_name": "Python 3",
   "language": "python",
   "name": "python3"
  },
  "language_info": {
   "codemirror_mode": {
    "name": "ipython",
    "version": 3
   },
   "file_extension": ".py",
   "mimetype": "text/x-python",
   "name": "python",
   "nbconvert_exporter": "python",
   "pygments_lexer": "ipython3",
   "version": "3.10.11"
  }
 },
 "nbformat": 4,
 "nbformat_minor": 5
}
