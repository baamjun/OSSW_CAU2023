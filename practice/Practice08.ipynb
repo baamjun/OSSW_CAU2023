{
 "cells": [
  {
   "cell_type": "code",
   "execution_count": 1,
   "id": "rapid-carry",
   "metadata": {},
   "outputs": [],
   "source": [
    "import sklearn.datasets\n",
    "import sklearn.linear_model\n",
    "import sklearn.model_selection\n",
    "import sklearn.metrics\n",
    "import numpy as np\n",
    "\n",
    "import matplotlib.pyplot as plt \n",
    "%matplotlib inline"
   ]
  },
  {
   "cell_type": "markdown",
   "id": "blond-brake",
   "metadata": {},
   "source": [
    "# Load Data Points (Do not modify the following block)"
   ]
  },
  {
   "cell_type": "code",
   "execution_count": 6,
   "id": "anticipated-marks",
   "metadata": {},
   "outputs": [],
   "source": [
    "digits = sklearn.datasets.load_digits()\n",
    "X = digits.data\n",
    "y = digits.target\n",
    "X_train, X_test, y_train, y_test = sklearn.model_selection.train_test_split(X, y, test_size=0.3, random_state=0)"
   ]
  },
  {
   "cell_type": "markdown",
   "id": "dried-houston",
   "metadata": {},
   "source": [
    "# Perceptron with Scikit Learn\n",
    "### Variable Explanation (Do not change variable names)\n",
    "- 'digits' is a variable containing hand-written dataset in scikit learn\n",
    "- 'X_train' is feature vectors of training dataset\n",
    "- 'y_train' is target labels of training dataset\n",
    "- 'X_test' is feature vectors of test dataset\n",
    "- 'y_test' is target labels of test dataset\n",
    "\n",
    "### Answer the following problems."
   ]
  },
  {
   "cell_type": "markdown",
   "id": "talented-composite",
   "metadata": {},
   "source": [
    "### 1. Print feature names, shape of X_train, shape of X_test"
   ]
  },
  {
   "cell_type": "code",
   "execution_count": 7,
   "id": "former-scene",
   "metadata": {},
   "outputs": [
    {
     "name": "stdout",
     "output_type": "stream",
     "text": [
      "========Feature names=======\n",
      "['pixel_0_0', 'pixel_0_1', 'pixel_0_2', 'pixel_0_3', 'pixel_0_4', 'pixel_0_5', 'pixel_0_6', 'pixel_0_7', 'pixel_1_0', 'pixel_1_1', 'pixel_1_2', 'pixel_1_3', 'pixel_1_4', 'pixel_1_5', 'pixel_1_6', 'pixel_1_7', 'pixel_2_0', 'pixel_2_1', 'pixel_2_2', 'pixel_2_3', 'pixel_2_4', 'pixel_2_5', 'pixel_2_6', 'pixel_2_7', 'pixel_3_0', 'pixel_3_1', 'pixel_3_2', 'pixel_3_3', 'pixel_3_4', 'pixel_3_5', 'pixel_3_6', 'pixel_3_7', 'pixel_4_0', 'pixel_4_1', 'pixel_4_2', 'pixel_4_3', 'pixel_4_4', 'pixel_4_5', 'pixel_4_6', 'pixel_4_7', 'pixel_5_0', 'pixel_5_1', 'pixel_5_2', 'pixel_5_3', 'pixel_5_4', 'pixel_5_5', 'pixel_5_6', 'pixel_5_7', 'pixel_6_0', 'pixel_6_1', 'pixel_6_2', 'pixel_6_3', 'pixel_6_4', 'pixel_6_5', 'pixel_6_6', 'pixel_6_7', 'pixel_7_0', 'pixel_7_1', 'pixel_7_2', 'pixel_7_3', 'pixel_7_4', 'pixel_7_5', 'pixel_7_6', 'pixel_7_7']\n",
      "======Shape of X_train======\n",
      "(1257, 64)\n",
      "=======Shape of X_test======\n",
      "(540, 64)\n"
     ]
    }
   ],
   "source": [
    "# TO DO\n",
    "print(\"========Feature names=======\")\n",
    "# print feature names (hint: digits.feature_names)\n",
    "print(digits.feature_names)\n",
    "print(\"======Shape of X_train======\")\n",
    "# print shape of X_train\n",
    "print(X_train.shape)\n",
    "print(\"=======Shape of X_test======\")\n",
    "# print shape of X_test\n",
    "print(X_test.shape)"
   ]
  },
  {
   "cell_type": "markdown",
   "id": "dated-eugene",
   "metadata": {},
   "source": [
    "### 2. Print target names, shape of y_train, shape of y_test"
   ]
  },
  {
   "cell_type": "code",
   "execution_count": 8,
   "id": "higher-ballet",
   "metadata": {},
   "outputs": [
    {
     "name": "stdout",
     "output_type": "stream",
     "text": [
      "========Target names========\n",
      "[0 1 2 3 4 5 6 7 8 9]\n",
      "======Shape of y_train======\n",
      "(1257,)\n",
      "=======Shape of y_test======\n",
      "(540,)\n"
     ]
    }
   ],
   "source": [
    "# TO DO\n",
    "print(\"========Target names========\")\n",
    "# print target names (hint: digits.target_names)\n",
    "print(digits.target_names)\n",
    "print(\"======Shape of y_train======\")\n",
    "# print shape of y_train\n",
    "print(y_train.shape)\n",
    "print(\"=======Shape of y_test======\")\n",
    "# print shape of y_test\n",
    "print(y_test.shape)"
   ]
  },
  {
   "cell_type": "markdown",
   "id": "unnecessary-response",
   "metadata": {},
   "source": [
    "### 3. Create perceptron object using scikit learn with default hyper parameters\n",
    "hint: sklearn.linear_model.Perceptron()"
   ]
  },
  {
   "cell_type": "code",
   "execution_count": 11,
   "id": "distinct-renaissance",
   "metadata": {},
   "outputs": [],
   "source": [
    "# TO DO\n",
    "# Create perceptron object\n",
    "perceptron = sklearn.linear_model.Perceptron()"
   ]
  },
  {
   "cell_type": "markdown",
   "id": "dedicated-brain",
   "metadata": {},
   "source": [
    "### 4. Train a perceptron for training dataset\n",
    "hint: .fit(,) "
   ]
  },
  {
   "cell_type": "code",
   "execution_count": 13,
   "id": "placed-opinion",
   "metadata": {},
   "outputs": [
    {
     "data": {
      "text/html": [
       "<style>#sk-container-id-3 {color: black;background-color: white;}#sk-container-id-3 pre{padding: 0;}#sk-container-id-3 div.sk-toggleable {background-color: white;}#sk-container-id-3 label.sk-toggleable__label {cursor: pointer;display: block;width: 100%;margin-bottom: 0;padding: 0.3em;box-sizing: border-box;text-align: center;}#sk-container-id-3 label.sk-toggleable__label-arrow:before {content: \"▸\";float: left;margin-right: 0.25em;color: #696969;}#sk-container-id-3 label.sk-toggleable__label-arrow:hover:before {color: black;}#sk-container-id-3 div.sk-estimator:hover label.sk-toggleable__label-arrow:before {color: black;}#sk-container-id-3 div.sk-toggleable__content {max-height: 0;max-width: 0;overflow: hidden;text-align: left;background-color: #f0f8ff;}#sk-container-id-3 div.sk-toggleable__content pre {margin: 0.2em;color: black;border-radius: 0.25em;background-color: #f0f8ff;}#sk-container-id-3 input.sk-toggleable__control:checked~div.sk-toggleable__content {max-height: 200px;max-width: 100%;overflow: auto;}#sk-container-id-3 input.sk-toggleable__control:checked~label.sk-toggleable__label-arrow:before {content: \"▾\";}#sk-container-id-3 div.sk-estimator input.sk-toggleable__control:checked~label.sk-toggleable__label {background-color: #d4ebff;}#sk-container-id-3 div.sk-label input.sk-toggleable__control:checked~label.sk-toggleable__label {background-color: #d4ebff;}#sk-container-id-3 input.sk-hidden--visually {border: 0;clip: rect(1px 1px 1px 1px);clip: rect(1px, 1px, 1px, 1px);height: 1px;margin: -1px;overflow: hidden;padding: 0;position: absolute;width: 1px;}#sk-container-id-3 div.sk-estimator {font-family: monospace;background-color: #f0f8ff;border: 1px dotted black;border-radius: 0.25em;box-sizing: border-box;margin-bottom: 0.5em;}#sk-container-id-3 div.sk-estimator:hover {background-color: #d4ebff;}#sk-container-id-3 div.sk-parallel-item::after {content: \"\";width: 100%;border-bottom: 1px solid gray;flex-grow: 1;}#sk-container-id-3 div.sk-label:hover label.sk-toggleable__label {background-color: #d4ebff;}#sk-container-id-3 div.sk-serial::before {content: \"\";position: absolute;border-left: 1px solid gray;box-sizing: border-box;top: 0;bottom: 0;left: 50%;z-index: 0;}#sk-container-id-3 div.sk-serial {display: flex;flex-direction: column;align-items: center;background-color: white;padding-right: 0.2em;padding-left: 0.2em;position: relative;}#sk-container-id-3 div.sk-item {position: relative;z-index: 1;}#sk-container-id-3 div.sk-parallel {display: flex;align-items: stretch;justify-content: center;background-color: white;position: relative;}#sk-container-id-3 div.sk-item::before, #sk-container-id-3 div.sk-parallel-item::before {content: \"\";position: absolute;border-left: 1px solid gray;box-sizing: border-box;top: 0;bottom: 0;left: 50%;z-index: -1;}#sk-container-id-3 div.sk-parallel-item {display: flex;flex-direction: column;z-index: 1;position: relative;background-color: white;}#sk-container-id-3 div.sk-parallel-item:first-child::after {align-self: flex-end;width: 50%;}#sk-container-id-3 div.sk-parallel-item:last-child::after {align-self: flex-start;width: 50%;}#sk-container-id-3 div.sk-parallel-item:only-child::after {width: 0;}#sk-container-id-3 div.sk-dashed-wrapped {border: 1px dashed gray;margin: 0 0.4em 0.5em 0.4em;box-sizing: border-box;padding-bottom: 0.4em;background-color: white;}#sk-container-id-3 div.sk-label label {font-family: monospace;font-weight: bold;display: inline-block;line-height: 1.2em;}#sk-container-id-3 div.sk-label-container {text-align: center;}#sk-container-id-3 div.sk-container {/* jupyter's `normalize.less` sets `[hidden] { display: none; }` but bootstrap.min.css set `[hidden] { display: none !important; }` so we also need the `!important` here to be able to override the default hidden behavior on the sphinx rendered scikit-learn.org. See: https://github.com/scikit-learn/scikit-learn/issues/21755 */display: inline-block !important;position: relative;}#sk-container-id-3 div.sk-text-repr-fallback {display: none;}</style><div id=\"sk-container-id-3\" class=\"sk-top-container\"><div class=\"sk-text-repr-fallback\"><pre>Perceptron()</pre><b>In a Jupyter environment, please rerun this cell to show the HTML representation or trust the notebook. <br />On GitHub, the HTML representation is unable to render, please try loading this page with nbviewer.org.</b></div><div class=\"sk-container\" hidden><div class=\"sk-item\"><div class=\"sk-estimator sk-toggleable\"><input class=\"sk-toggleable__control sk-hidden--visually\" id=\"sk-estimator-id-3\" type=\"checkbox\" checked><label for=\"sk-estimator-id-3\" class=\"sk-toggleable__label sk-toggleable__label-arrow\">Perceptron</label><div class=\"sk-toggleable__content\"><pre>Perceptron()</pre></div></div></div></div></div>"
      ],
      "text/plain": [
       "Perceptron()"
      ]
     },
     "execution_count": 13,
     "metadata": {},
     "output_type": "execute_result"
    }
   ],
   "source": [
    "# TO DO\n",
    "# Train a perceptron object created at Problem 3.\n",
    "perceptron.fit(X_train, y_train)"
   ]
  },
  {
   "cell_type": "markdown",
   "id": "spanish-porcelain",
   "metadata": {},
   "source": [
    "### 5. Test the trained perceptron\n",
    "hint: .predict()\n",
    "- store the prediction labels to the variable 'y_pred'\n",
    "- 'y_pred' was initialized as zero vectors and fill 'y_pred' with predicted labels\n",
    "- do not change the variable name, 'y_pred'"
   ]
  },
  {
   "cell_type": "code",
   "execution_count": 16,
   "id": "stuffed-particle",
   "metadata": {},
   "outputs": [],
   "source": [
    "# TO DO\n",
    "# Test the trained perceptron\n",
    "y_pred = perceptron.predict(X_test)"
   ]
  },
  {
   "cell_type": "markdown",
   "id": "crazy-respondent",
   "metadata": {},
   "source": [
    "### Print accuracy (do not modify the following block)"
   ]
  },
  {
   "cell_type": "code",
   "execution_count": 26,
   "id": "caroline-acoustic",
   "metadata": {},
   "outputs": [
    {
     "name": "stdout",
     "output_type": "stream",
     "text": [
      "Accuracy: 0.93\n"
     ]
    }
   ],
   "source": [
    "print('Accuracy: %.2f' % sklearn.metrics.accuracy_score(y_test, y_pred))"
   ]
  },
  {
   "cell_type": "markdown",
   "id": "arabic-murder",
   "metadata": {},
   "source": [
    "### 6. Create perceptron object with different hyper parameters\n",
    "- Perceptron object in scikit learn has the following hyper parameters\n",
    "    - penalty=None,\n",
    "    - alpha=0.0001,\n",
    "    - l1_ratio=0.15,\n",
    "    - fit_intercept=True,\n",
    "    - max_iter=1000,\n",
    "    - tol=0.001,\n",
    "    - shuffle=True,\n",
    "    - verbose=0,\n",
    "    - eta0=1.0,\n",
    "    - n_jobs=None,\n",
    "    - random_state=0,\n",
    "    - early_stopping=False,\n",
    "    - validation_fraction=0.1,\n",
    "    - n_iter_no_change=5,\n",
    "    - class_weight=None,\n",
    "    - warm_start=False,\n",
    "- Change at least one hyper parameter such as eta0, penalty, alpha, or max_iter"
   ]
  },
  {
   "cell_type": "code",
   "execution_count": 45,
   "id": "executed-negotiation",
   "metadata": {},
   "outputs": [],
   "source": [
    "# TO DO\n",
    "# Create perceptron object\n",
    "perceptron_custom = sklearn.linear_model.Perceptron(eta0=2.0, penalty='l1', alpha=0.0005, max_iter=2000)"
   ]
  },
  {
   "cell_type": "markdown",
   "id": "magnetic-maine",
   "metadata": {},
   "source": [
    "### 7. Train the preceptron created at Problem 6. and test it\n",
    "hint: .predict()\n",
    "- predict labels for test dataset (X_test)\n",
    "- store the prediction labels of X_test to the variable 'y_pred'\n",
    "- 'y_pred' was initialized as zero vectors and fill 'y_pred' with predicted labels\n",
    "- do not change the variable name, 'y_pred'"
   ]
  },
  {
   "cell_type": "code",
   "execution_count": 46,
   "id": "destroyed-adapter",
   "metadata": {},
   "outputs": [],
   "source": [
    "# TO DO\n",
    "# Train a perceptron object created at Problem 3.\n",
    "# Test the trained perceptron\n",
    "perceptron_custom.fit(X_train, y_train)\n",
    "y_pred2 = perceptron_custom.predict(X_test)"
   ]
  },
  {
   "cell_type": "markdown",
   "id": "twenty-mistake",
   "metadata": {},
   "source": [
    "### Print accuracy (do not modify the following block)"
   ]
  },
  {
   "cell_type": "code",
   "execution_count": 47,
   "id": "alien-concert",
   "metadata": {
    "scrolled": true
   },
   "outputs": [
    {
     "name": "stdout",
     "output_type": "stream",
     "text": [
      "Accuracy: 0.94\n"
     ]
    }
   ],
   "source": [
    "print('Accuracy: %.2f' % sklearn.metrics.accuracy_score(y_test, y_pred2))"
   ]
  },
  {
   "cell_type": "markdown",
   "metadata": {},
   "source": [
    "----"
   ]
  },
  {
   "cell_type": "code",
   "execution_count": 48,
   "metadata": {},
   "outputs": [
    {
     "name": "stdout",
     "output_type": "stream",
     "text": [
      "손범준, 20172206\n"
     ]
    }
   ],
   "source": [
    "print('손범준, 20172206')"
   ]
  }
 ],
 "metadata": {
  "kernelspec": {
   "display_name": "Python 3",
   "language": "python",
   "name": "python3"
  },
  "language_info": {
   "codemirror_mode": {
    "name": "ipython",
    "version": 3
   },
   "file_extension": ".py",
   "mimetype": "text/x-python",
   "name": "python",
   "nbconvert_exporter": "python",
   "pygments_lexer": "ipython3",
   "version": "3.10.11"
  }
 },
 "nbformat": 4,
 "nbformat_minor": 5
}
